{
 "cells": [
  {
   "cell_type": "code",
   "execution_count": 1,
   "metadata": {
    "collapsed": true
   },
   "outputs": [],
   "source": [
    "\"\"\"\n",
    "作者：librauee\n",
    "微信公众号：老肥码码码\n",
    "日期：2020.12.18\n",
    "线上得分：0.8003\n",
    "截至日期排名：1\n",
    "\"\"\"\n",
    "from sklearn.linear_model import LogisticRegression\n",
    "from sklearn.model_selection import cross_val_score\n",
    "from sklearn import preprocessing\n",
    "from sklearn.model_selection import StratifiedKFold\n",
    "from sklearn.metrics import accuracy_score\n",
    "from sklearn.preprocessing import LabelEncoder\n",
    "import lightgbm as lgb\n",
    "from tqdm import tqdm\n",
    "import pandas as pd\n",
    "import numpy as np\n",
    "import warnings\n",
    "\n",
    "warnings.filterwarnings('ignore')"
   ]
  },
  {
   "cell_type": "code",
   "execution_count": 2,
   "metadata": {
    "collapsed": true
   },
   "outputs": [],
   "source": [
    "# 数据读取，去除无关列和标签列\n",
    "# 这里需对标签列进行label encoder编码（转化为数字）\n",
    "train = pd.read_csv('train.csv')\n",
    "test = pd.read_csv('test_noLabel.csv')\n",
    "lb = LabelEncoder()\n",
    "y = lb.fit_transform(train['Label'])\n",
    "train['Label'] = y\n",
    "\n",
    "X_train = train.drop(['ID', 'Label'], axis=1)\n",
    "X_test = test.drop(['ID'], axis=1)"
   ]
  },
  {
   "cell_type": "code",
   "execution_count": 3,
   "metadata": {
    "collapsed": true
   },
   "outputs": [],
   "source": [
    "# 将类别特征转换为category类型\n",
    "cat_cols = ['Contract', 'Dependents', 'DeviceProtection', 'InternetService',\n",
    "            'MultipleLines', 'Partner', 'PaymentMethod',\n",
    "            'PhoneService',  'TVProgram', 'gender']\n",
    "\n",
    "X_train[cat_cols] = X_train[cat_cols].astype('category')\n",
    "X_test[cat_cols] = X_test[cat_cols].astype('category')"
   ]
  },
  {
   "cell_type": "code",
   "execution_count": 4,
   "metadata": {},
   "outputs": [
    {
     "name": "stdout",
     "output_type": "stream",
     "text": [
      "fold n°0\n",
      "Training until validation scores don't improve for 200 rounds\n",
      "Early stopping, best iteration is:\n",
      "[38]\ttraining's binary_error: 0.187515\tvalid_1's binary_error: 0.231358\n",
      "fold n°1\n",
      "Training until validation scores don't improve for 200 rounds\n",
      "Early stopping, best iteration is:\n",
      "[20]\ttraining's binary_error: 0.19469\tvalid_1's binary_error: 0.243786\n",
      "fold n°2\n",
      "Training until validation scores don't improve for 200 rounds\n",
      "Early stopping, best iteration is:\n",
      "[23]\ttraining's binary_error: 0.198231\tvalid_1's binary_error: 0.21244\n",
      "fold n°3\n",
      "Training until validation scores don't improve for 200 rounds\n",
      "Early stopping, best iteration is:\n",
      "[28]\ttraining's binary_error: 0.193926\tvalid_1's binary_error: 0.208612\n",
      "fold n°4\n",
      "Training until validation scores don't improve for 200 rounds\n",
      "Early stopping, best iteration is:\n",
      "[12]\ttraining's binary_error: 0.206839\tvalid_1's binary_error: 0.209569\n",
      "ACC: 0.7788406351635737\n"
     ]
    }
   ],
   "source": [
    "# LGB模型五折交叉验证\n",
    "features = X_train.columns\n",
    "params = {\n",
    "          'objective':'binary',\n",
    "          'metric':'binary_error', \n",
    "          'num_iterations': 10000, \n",
    "}\n",
    "\n",
    "predictions_lgb = np.zeros((len(X_test)))\n",
    "\n",
    "seeds = [2028]\n",
    "for seed in seeds:\n",
    "    KF = StratifiedKFold(n_splits=5, shuffle=True, random_state=seed)\n",
    "    oof_lgb = np.zeros(len(X_train))\n",
    "    for fold_, (trn_idx, val_idx) in enumerate(KF.split(X_train.values, y)):\n",
    "        print(\"fold n°{}\".format(fold_))\n",
    "        trn_data = lgb.Dataset(X_train.iloc[trn_idx][features],label=y[trn_idx])    \n",
    "        val_data = lgb.Dataset(X_train.iloc[val_idx][features],label=y[val_idx])\n",
    "        num_round = 10000\n",
    "        clf = lgb.train(\n",
    "            params,\n",
    "                        trn_data,\n",
    "                        num_round,\n",
    "                        valid_sets = [trn_data, val_data],\n",
    "                        verbose_eval=500,\n",
    "                        early_stopping_rounds=200,  \n",
    "            categorical_feature=cat_cols,\n",
    "        )\n",
    "\n",
    "        oof_lgb[val_idx] = clf.predict(X_train.iloc[val_idx][features], num_iteration=clf.best_iteration)\n",
    "        predictions_lgb[:] += clf.predict(X_test[features], num_iteration=clf.best_iteration) / 5 /len(seeds)\n",
    "    print(\"ACC: {}\".format(accuracy_score(y, [1 if i >= 0.5 else 0 for i in oof_lgb])))"
   ]
  },
  {
   "cell_type": "code",
   "execution_count": 5,
   "metadata": {
    "collapsed": true
   },
   "outputs": [],
   "source": [
    "# 提交\n",
    "submit = pd.read_csv('submit_example.csv')\n",
    "submit['Label'] = lb.inverse_transform([1 if i >= 0.5 else 0 for i in predictions_lgb])\n",
    "submit.to_csv('submit_LGB.csv', index=False)"
   ]
  },
  {
   "cell_type": "code",
   "execution_count": null,
   "metadata": {
    "collapsed": true
   },
   "outputs": [],
   "source": []
  }
 ],
 "metadata": {
  "kernelspec": {
   "display_name": "Python 3",
   "language": "python",
   "name": "python3"
  },
  "language_info": {
   "codemirror_mode": {
    "name": "ipython",
    "version": 3
   },
   "file_extension": ".py",
   "mimetype": "text/x-python",
   "name": "python",
   "nbconvert_exporter": "python",
   "pygments_lexer": "ipython3",
   "version": "3.6.1"
  }
 },
 "nbformat": 4,
 "nbformat_minor": 2
}
